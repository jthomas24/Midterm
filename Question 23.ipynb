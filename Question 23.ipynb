{
 "cells": [
  {
   "cell_type": "code",
   "execution_count": 98,
   "id": "09d13898",
   "metadata": {},
   "outputs": [],
   "source": [
    "class EmptyQueueError(Exception):     \n",
    "    pass\n",
    "class FullQueueError(Exception):\n",
    "    pass\n",
    "class InsufficientElementsInQueueError(Exception):\n",
    "    pass\n",
    "\n",
    "class Queue1:\n",
    "    'a classic queue class'\n",
    "    def __init__(self):\n",
    "        'instantiates an empty list'\n",
    "        self.q = []\n",
    "    def isEmpty(self):\n",
    "        'returns True if queue is empty, False otherwise'\n",
    "        return (len(self.q) == 0)\n",
    "    def enqueue (self, item):\n",
    "        'insert item at rear of queue'\n",
    "        if (len(self.q)) == 4:\n",
    "            raise FullQueueError(\"The max size of the queue is 4, and it has been reached\")\n",
    "        return self.q.append(item)\n",
    "    def dequeue(self):\n",
    "        'remove and return item at front of queue'\n",
    "        if self.isEmpty():\n",
    "            raise EmptyQueueError('dequeue from empty queue')\n",
    "        return self.q.pop(0)\n",
    "    def dequeueMultiple(self,value):\n",
    "        if (len(self.q))<value:\n",
    "            raise InsufficientElementsInQueueError(\"You are asking to remove more elements than in the queue\")\n",
    "        for i in range(value):\n",
    "            self.q.pop(0)            \n",
    "    def get(self):\n",
    "        return (self.q)\n",
    "    \n",
    "class Queue2:\n",
    "    'a classic queue class'\n",
    "    def __init__(self):\n",
    "        'instantiates an empty list'\n",
    "        self.q = []\n",
    "    def isEmpty(self):\n",
    "        'returns True if queue is empty, False otherwise'\n",
    "        return (len(self.q) == 0)\n",
    "    def enqueue (self, item):\n",
    "        'insert item at rear of queue'\n",
    "        if (len(self.q)) == 4:\n",
    "            raise FullQueueError(\"The max size of the queue is 4, and it has been reached\")\n",
    "        return self.q.append(item)\n",
    "    def dequeue(self):\n",
    "        'remove and return item at front of queue'\n",
    "        if self.isEmpty():\n",
    "            raise EmptyQueueError('dequeue from empty queue')\n",
    "        return self.q.pop(0)\n",
    "    def dequeueMultiple(self,value):\n",
    "        if (len(self.q))<value:\n",
    "            raise InsufficientElementsInQueueError(\"You are asking to remove more elements than in the queue\")\n",
    "        for i in range(value):\n",
    "            self.q.pop(0)            \n",
    "    def get(self):\n",
    "        return (self.q)\n",
    "        "
   ]
  },
  {
   "cell_type": "code",
   "execution_count": 92,
   "id": "ea9d3b11",
   "metadata": {},
   "outputs": [
    {
     "data": {
      "text/plain": [
       "['Jess', 'Tom', 'Megan', 'Nicole']"
      ]
     },
     "execution_count": 92,
     "metadata": {},
     "output_type": "execute_result"
    }
   ],
   "source": [
    "names = Queue()\n",
    "names.enqueue(\"Jess\")\n",
    "names.enqueue(\"Tom\")\n",
    "names.enqueue(\"Megan\")\n",
    "names.enqueue(\"Nicole\")\n",
    "names.get()"
   ]
  },
  {
   "cell_type": "code",
   "execution_count": 93,
   "id": "9e994607",
   "metadata": {},
   "outputs": [
    {
     "data": {
      "text/plain": [
       "['Megan', 'Nicole']"
      ]
     },
     "execution_count": 93,
     "metadata": {},
     "output_type": "execute_result"
    }
   ],
   "source": [
    "names.dequeueMultiple(2)\n",
    "names.get()"
   ]
  },
  {
   "cell_type": "code",
   "execution_count": 90,
   "id": "291221de",
   "metadata": {},
   "outputs": [
    {
     "ename": "InsufficientElementsInQueueError",
     "evalue": "You are asking to remove more elements than in the queue",
     "output_type": "error",
     "traceback": [
      "\u001b[1;31m---------------------------------------------------------------------------\u001b[0m",
      "\u001b[1;31mInsufficientElementsInQueueError\u001b[0m          Traceback (most recent call last)",
      "Cell \u001b[1;32mIn[90], line 1\u001b[0m\n\u001b[1;32m----> 1\u001b[0m names\u001b[38;5;241m.\u001b[39mdequeueMultiple(\u001b[38;5;241m5\u001b[39m)\n\u001b[0;32m      2\u001b[0m names\u001b[38;5;241m.\u001b[39mget()\n",
      "Cell \u001b[1;32mIn[87], line 28\u001b[0m, in \u001b[0;36mQueue.dequeueMultiple\u001b[1;34m(self, value)\u001b[0m\n\u001b[0;32m     26\u001b[0m \u001b[38;5;28;01mdef\u001b[39;00m \u001b[38;5;21mdequeueMultiple\u001b[39m(\u001b[38;5;28mself\u001b[39m,value):\n\u001b[0;32m     27\u001b[0m     \u001b[38;5;28;01mif\u001b[39;00m (\u001b[38;5;28mlen\u001b[39m(\u001b[38;5;28mself\u001b[39m\u001b[38;5;241m.\u001b[39mq))\u001b[38;5;241m<\u001b[39mvalue:\n\u001b[1;32m---> 28\u001b[0m         \u001b[38;5;28;01mraise\u001b[39;00m InsufficientElementsInQueueError(\u001b[38;5;124m\"\u001b[39m\u001b[38;5;124mYou are asking to remove more elements than in the queue\u001b[39m\u001b[38;5;124m\"\u001b[39m)\n\u001b[0;32m     29\u001b[0m     \u001b[38;5;28;01mfor\u001b[39;00m i \u001b[38;5;129;01min\u001b[39;00m \u001b[38;5;28mrange\u001b[39m(value):\n\u001b[0;32m     30\u001b[0m         \u001b[38;5;28mself\u001b[39m\u001b[38;5;241m.\u001b[39mq\u001b[38;5;241m.\u001b[39mpop(\u001b[38;5;241m0\u001b[39m)\n",
      "\u001b[1;31mInsufficientElementsInQueueError\u001b[0m: You are asking to remove more elements than in the queue"
     ]
    }
   ],
   "source": [
    "names.dequeueMultiple(5)\n",
    "names.get()"
   ]
  },
  {
   "cell_type": "code",
   "execution_count": 100,
   "id": "ec2ca2fa",
   "metadata": {},
   "outputs": [
    {
     "data": {
      "text/plain": [
       "['Jess', 'Tom', 'Megan', 'Nicole']"
      ]
     },
     "execution_count": 100,
     "metadata": {},
     "output_type": "execute_result"
    }
   ],
   "source": [
    "names1 = Queue1()\n",
    "names1.enqueue(\"Jess\")\n",
    "names1.enqueue(\"Tom\")\n",
    "names1.enqueue(\"Megan\")\n",
    "names1.enqueue(\"Nicole\")\n",
    "names1.get()\n"
   ]
  },
  {
   "cell_type": "code",
   "execution_count": 101,
   "id": "662a6eef",
   "metadata": {},
   "outputs": [
    {
     "data": {
      "text/plain": [
       "['Brenda', 'Sandy', 'Norm', 'Jo']"
      ]
     },
     "execution_count": 101,
     "metadata": {},
     "output_type": "execute_result"
    }
   ],
   "source": [
    "\n",
    "names2 = Queue2()\n",
    "names2.enqueue(\"Brenda\")\n",
    "names2.enqueue(\"Sandy\")\n",
    "names2.enqueue(\"Norm\")\n",
    "names2.enqueue(\"Jo\")\n",
    "names2.get()"
   ]
  },
  {
   "cell_type": "code",
   "execution_count": 102,
   "id": "29e29583",
   "metadata": {},
   "outputs": [
    {
     "ename": "TypeError",
     "evalue": "unsupported operand type(s) for +: 'Queue1' and 'Queue2'",
     "output_type": "error",
     "traceback": [
      "\u001b[1;31m---------------------------------------------------------------------------\u001b[0m",
      "\u001b[1;31mTypeError\u001b[0m                                 Traceback (most recent call last)",
      "Cell \u001b[1;32mIn[102], line 1\u001b[0m\n\u001b[1;32m----> 1\u001b[0m names1\u001b[38;5;241m+\u001b[39mnames2\n",
      "\u001b[1;31mTypeError\u001b[0m: unsupported operand type(s) for +: 'Queue1' and 'Queue2'"
     ]
    }
   ],
   "source": [
    "\n"
   ]
  },
  {
   "cell_type": "code",
   "execution_count": null,
   "id": "c9333ddb",
   "metadata": {},
   "outputs": [],
   "source": []
  }
 ],
 "metadata": {
  "kernelspec": {
   "display_name": "Python 3 (ipykernel)",
   "language": "python",
   "name": "python3"
  },
  "language_info": {
   "codemirror_mode": {
    "name": "ipython",
    "version": 3
   },
   "file_extension": ".py",
   "mimetype": "text/x-python",
   "name": "python",
   "nbconvert_exporter": "python",
   "pygments_lexer": "ipython3",
   "version": "3.11.5"
  }
 },
 "nbformat": 4,
 "nbformat_minor": 5
}
