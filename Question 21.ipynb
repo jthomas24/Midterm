{
 "cells": [
  {
   "cell_type": "code",
   "execution_count": 92,
   "id": "cb65ed60",
   "metadata": {},
   "outputs": [
    {
     "name": "stdout",
     "output_type": "stream",
     "text": [
      "BbcaA\n",
      "K nqxg DFCVV\n"
     ]
    }
   ],
   "source": [
    "#Question 21:\n",
    "\n",
    "\n",
    "def caesar(Plaintext, shift):\n",
    "    CipherText = \"\"\n",
    "    for text in Plaintext: \n",
    "            if text.isupper() == True:\n",
    "                result = ord(text)+shift\n",
    "                if result > ord('Z'):\n",
    "                    result -= 26\n",
    "            elif text.islower()==True:\n",
    "                result = ord(text)+shift\n",
    "                if result > ord('z'):\n",
    "                    result -= 26\n",
    "            elif ord(text)==32:\n",
    "                result = 32\n",
    "            CipherValue = chr(result)\n",
    "            CipherText += CipherValue\n",
    "    print (CipherText)\n",
    "        \n",
    "    \n",
    "caesar(\"AabzZ\",1)\n",
    "caesar(\"I love BDAT!\",2)"
   ]
  },
  {
   "cell_type": "code",
   "execution_count": null,
   "id": "49caa00c",
   "metadata": {},
   "outputs": [],
   "source": []
  }
 ],
 "metadata": {
  "kernelspec": {
   "display_name": "Python 3 (ipykernel)",
   "language": "python",
   "name": "python3"
  },
  "language_info": {
   "codemirror_mode": {
    "name": "ipython",
    "version": 3
   },
   "file_extension": ".py",
   "mimetype": "text/x-python",
   "name": "python",
   "nbconvert_exporter": "python",
   "pygments_lexer": "ipython3",
   "version": "3.11.5"
  }
 },
 "nbformat": 4,
 "nbformat_minor": 5
}
