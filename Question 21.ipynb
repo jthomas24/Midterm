{
 "cells": [
  {
   "cell_type": "code",
   "execution_count": 20,
   "id": "b18fe61a",
   "metadata": {},
   "outputs": [
    {
     "name": "stdout",
     "output_type": "stream",
     "text": [
      "Please add your phrase: ABC\n",
      "Please enter a positive integer for the shift: 2\n",
      "caesar( ABC 2 )\n",
      "CDE\n"
     ]
    }
   ],
   "source": [
    "#Question 21:\n",
    "\n",
    "Plaintext = str(input(\"Please add your phrase: \"))\n",
    "shift = int(input(\"Please enter a positive integer for the shift: \"))\n",
    "\n",
    "def caesar(Plaintext, shift):\n",
    "    CipherText = \"\"\n",
    "    for text in Plaintext:\n",
    "        result = ord(text)+shift\n",
    "        CipherValue = chr(result)\n",
    "        CipherText += CipherValue\n",
    "    print (\"caesar(\",Plaintext,shift,\")\")\n",
    "    print (CipherText)\n",
    "        \n",
    "    \n",
    "caesar(Plaintext,shift)"
   ]
  },
  {
   "cell_type": "code",
   "execution_count": 44,
   "id": "04d074dd",
   "metadata": {},
   "outputs": [
    {
     "data": {
      "text/plain": [
       "<sqlite3.Cursor at 0x235fa736340>"
      ]
     },
     "execution_count": 44,
     "metadata": {},
     "output_type": "execute_result"
    }
   ],
   "source": [
    "cur.execute(\"INSERT INTO Dessert1 VALUES ('Cake',1,4)\")\n",
    "cur.execute(\"INSERT INTO Dessert1 VALUES ('Brownie',2,2)\")\n",
    "cur.execute(\"INSERT INTO Dessert1 VALUES ('Ice Cream',3,1)\")\n",
    "cur.execute(\"INSERT INTO Dessert1 VALUES ('Cookie',4,3)\")\n",
    "cur.execute(\"INSERT INTO Dessert1 VALUES ('Pie',5,5)\")\n"
   ]
  },
  {
   "cell_type": "code",
   "execution_count": 45,
   "id": "6e22bdcc",
   "metadata": {},
   "outputs": [
    {
     "data": {
      "text/plain": [
       "[('Cake', 1, 4),\n",
       " ('Brownie', 2, 2),\n",
       " ('Ice Cream', 3, 1),\n",
       " ('Cookie', 4, 3),\n",
       " ('Pie', 5, 5)]"
      ]
     },
     "execution_count": 45,
     "metadata": {},
     "output_type": "execute_result"
    }
   ],
   "source": [
    "cur.execute('SELECT * FROM Dessert1')\n",
    "cur.fetchall()"
   ]
  },
  {
   "cell_type": "code",
   "execution_count": 46,
   "id": "809b23d1",
   "metadata": {},
   "outputs": [
    {
     "data": {
      "text/plain": [
       "[('Cake', 1, 4), ('Ice Cream', 3, 1)]"
      ]
     },
     "execution_count": 46,
     "metadata": {},
     "output_type": "execute_result"
    }
   ],
   "source": [
    "\n",
    "cur.execute('SELECT * FROM Dessert1 WHERE ThomasRanking = 1 OR MyRanking = 1')\n",
    "cur.fetchall()\n"
   ]
  },
  {
   "cell_type": "code",
   "execution_count": 48,
   "id": "5fd71f39",
   "metadata": {},
   "outputs": [
    {
     "data": {
      "text/plain": [
       "[('Ice Cream', 3, 1),\n",
       " ('Brownie', 2, 2),\n",
       " ('Cookie', 4, 3),\n",
       " ('Cake', 1, 4),\n",
       " ('Pie', 5, 5)]"
      ]
     },
     "execution_count": 48,
     "metadata": {},
     "output_type": "execute_result"
    }
   ],
   "source": [
    "\n",
    "cur.execute('SELECT * FROM Dessert1 ORDER BY MyRanking')\n",
    "cur.fetchall()"
   ]
  },
  {
   "cell_type": "code",
   "execution_count": null,
   "id": "014f0e19",
   "metadata": {},
   "outputs": [],
   "source": []
  }
 ],
 "metadata": {
  "kernelspec": {
   "display_name": "Python 3 (ipykernel)",
   "language": "python",
   "name": "python3"
  },
  "language_info": {
   "codemirror_mode": {
    "name": "ipython",
    "version": 3
   },
   "file_extension": ".py",
   "mimetype": "text/x-python",
   "name": "python",
   "nbconvert_exporter": "python",
   "pygments_lexer": "ipython3",
   "version": "3.11.5"
  }
 },
 "nbformat": 4,
 "nbformat_minor": 5
}
