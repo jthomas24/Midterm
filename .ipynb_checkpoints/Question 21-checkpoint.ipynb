{
 "cells": [
  {
   "cell_type": "code",
   "execution_count": 13,
   "id": "8b131291",
   "metadata": {},
   "outputs": [
    {
     "name": "stdout",
     "output_type": "stream",
     "text": [
      "Please add your phrase: ABC\n",
      "Please enter a positive integer for the shift: 2\n",
      "C\n",
      "D\n",
      "E\n"
     ]
    }
   ],
   "source": [
    "#Question 21:\n",
    "\n",
    "Plaintext = str(input(\"Please add your phrase: \"))\n",
    "shift = int(input(\"Please enter a positive integer for the shift: \"))\n",
    "\n",
    "def caesar(Plaintext, shift):\n",
    "    for text in Plaintext:\n",
    "        result = ord(text)+shift\n",
    "        Ciphertext = chr(result)\n",
    "        print (Ciphertext)\n",
    "    \n",
    "caesar(Plaintext,shift)"
   ]
  },
  {
   "cell_type": "code",
   "execution_count": null,
   "id": "a6d367c9",
   "metadata": {},
   "outputs": [],
   "source": []
  }
 ],
 "metadata": {
  "kernelspec": {
   "display_name": "Python 3 (ipykernel)",
   "language": "python",
   "name": "python3"
  },
  "language_info": {
   "codemirror_mode": {
    "name": "ipython",
    "version": 3
   },
   "file_extension": ".py",
   "mimetype": "text/x-python",
   "name": "python",
   "nbconvert_exporter": "python",
   "pygments_lexer": "ipython3",
   "version": "3.11.5"
  }
 },
 "nbformat": 4,
 "nbformat_minor": 5
}
