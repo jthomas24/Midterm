{
 "cells": [
  {
   "cell_type": "code",
   "execution_count": 3,
   "id": "55ee4b52",
   "metadata": {},
   "outputs": [
    {
     "data": {
      "text/plain": [
       "<sqlite3.Cursor at 0x175ff999b40>"
      ]
     },
     "execution_count": 3,
     "metadata": {},
     "output_type": "execute_result"
    }
   ],
   "source": [
    "#Question 22\n",
    "\n",
    "#1 Ice Cream\n",
    "#2 Brownie\n",
    "#3 Cookie\n",
    "#4 Cake\n",
    "#5 Pie\n",
    "\n",
    "import sqlite3\n",
    "con = sqlite3.connect('MidtermFinal.db')\n",
    "cur = con.cursor()\n",
    "\n",
    "cur.execute('CREATE TABLE Dessert (DessertName TEXT, ThomasRanking INTEGER, MyRanking INTEGER)')\n",
    "\n",
    "cur.execute(\"INSERT INTO Dessert VALUES ('Cake',1,4)\")\n",
    "cur.execute(\"INSERT INTO Dessert VALUES ('Brownie',2,2)\")\n",
    "cur.execute(\"INSERT INTO Dessert VALUES ('Ice Cream',3,1)\")\n",
    "cur.execute(\"INSERT INTO Dessert VALUES ('Cookie',4,3)\")\n",
    "cur.execute(\"INSERT INTO Dessert VALUES ('Pie',5,5)\")"
   ]
  },
  {
   "cell_type": "code",
   "execution_count": 4,
   "id": "bdaaad3a",
   "metadata": {},
   "outputs": [
    {
     "data": {
      "text/plain": [
       "[('Cake', 1, 4),\n",
       " ('Brownie', 2, 2),\n",
       " ('Ice Cream', 3, 1),\n",
       " ('Cookie', 4, 3),\n",
       " ('Pie', 5, 5)]"
      ]
     },
     "execution_count": 4,
     "metadata": {},
     "output_type": "execute_result"
    }
   ],
   "source": [
    "cur.execute('SELECT * FROM Dessert')\n",
    "cur.fetchall()"
   ]
  },
  {
   "cell_type": "code",
   "execution_count": 5,
   "id": "2f2ecdf4",
   "metadata": {},
   "outputs": [
    {
     "data": {
      "text/plain": [
       "[('Cake', 1, 4), ('Ice Cream', 3, 1)]"
      ]
     },
     "execution_count": 5,
     "metadata": {},
     "output_type": "execute_result"
    }
   ],
   "source": [
    "\n",
    "cur.execute('SELECT * FROM Dessert WHERE ThomasRanking = 1 OR MyRanking = 1')\n",
    "cur.fetchall()\n"
   ]
  },
  {
   "cell_type": "code",
   "execution_count": 6,
   "id": "4686dbdb",
   "metadata": {},
   "outputs": [
    {
     "data": {
      "text/plain": [
       "[('Ice Cream', 3, 1),\n",
       " ('Brownie', 2, 2),\n",
       " ('Cookie', 4, 3),\n",
       " ('Cake', 1, 4),\n",
       " ('Pie', 5, 5)]"
      ]
     },
     "execution_count": 6,
     "metadata": {},
     "output_type": "execute_result"
    }
   ],
   "source": [
    "\n",
    "cur.execute('SELECT * FROM Dessert ORDER BY MyRanking')\n",
    "cur.fetchall()"
   ]
  },
  {
   "cell_type": "code",
   "execution_count": null,
   "id": "58ca7e7d",
   "metadata": {},
   "outputs": [],
   "source": []
  }
 ],
 "metadata": {
  "kernelspec": {
   "display_name": "Python 3 (ipykernel)",
   "language": "python",
   "name": "python3"
  },
  "language_info": {
   "codemirror_mode": {
    "name": "ipython",
    "version": 3
   },
   "file_extension": ".py",
   "mimetype": "text/x-python",
   "name": "python",
   "nbconvert_exporter": "python",
   "pygments_lexer": "ipython3",
   "version": "3.11.5"
  }
 },
 "nbformat": 4,
 "nbformat_minor": 5
}
